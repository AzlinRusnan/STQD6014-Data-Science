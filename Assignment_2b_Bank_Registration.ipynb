{
  "nbformat": 4,
  "nbformat_minor": 0,
  "metadata": {
    "colab": {
      "provenance": [],
      "authorship_tag": "ABX9TyO00I3JMYMiL64MCvGp5r8B",
      "include_colab_link": true
    },
    "kernelspec": {
      "name": "python3",
      "display_name": "Python 3"
    },
    "language_info": {
      "name": "python"
    }
  },
  "cells": [
    {
      "cell_type": "markdown",
      "metadata": {
        "id": "view-in-github",
        "colab_type": "text"
      },
      "source": [
        "<a href=\"https://colab.research.google.com/github/AzlinRusnan/STQD6014-Data-Science/blob/main/Assignment_2b_Bank_Registration.ipynb\" target=\"_parent\"><img src=\"https://colab.research.google.com/assets/colab-badge.svg\" alt=\"Open In Colab\"/></a>"
      ]
    },
    {
      "cell_type": "code",
      "source": [
        "#3. Testing:\n",
        "#• Simulate three scenarios involving both the parent and child classes.\n",
        "#• Test your code under these scenarios.\n",
        "#• Display all the necessary information and attributes under each scenario."
      ],
      "metadata": {
        "id": "BZv9zlCzYI-5"
      },
      "execution_count": null,
      "outputs": []
    },
    {
      "cell_type": "code",
      "execution_count": 2,
      "metadata": {
        "colab": {
          "base_uri": "https://localhost:8080/",
          "height": 385
        },
        "id": "LuTwdWSWUidF",
        "outputId": "efdbd648-02b5-4aec-c2c5-cb847d13b03e"
      },
      "outputs": [
        {
          "output_type": "display_data",
          "data": {
            "text/plain": [
              "<IPython.core.display.HTML object>"
            ],
            "text/html": [
              "\n",
              "     <input type=\"file\" id=\"files-34e7ea30-667c-4350-a0bf-5a66836e9f4a\" name=\"files[]\" multiple disabled\n",
              "        style=\"border:none\" />\n",
              "     <output id=\"result-34e7ea30-667c-4350-a0bf-5a66836e9f4a\">\n",
              "      Upload widget is only available when the cell has been executed in the\n",
              "      current browser session. Please rerun this cell to enable.\n",
              "      </output>\n",
              "      <script>// Copyright 2017 Google LLC\n",
              "//\n",
              "// Licensed under the Apache License, Version 2.0 (the \"License\");\n",
              "// you may not use this file except in compliance with the License.\n",
              "// You may obtain a copy of the License at\n",
              "//\n",
              "//      http://www.apache.org/licenses/LICENSE-2.0\n",
              "//\n",
              "// Unless required by applicable law or agreed to in writing, software\n",
              "// distributed under the License is distributed on an \"AS IS\" BASIS,\n",
              "// WITHOUT WARRANTIES OR CONDITIONS OF ANY KIND, either express or implied.\n",
              "// See the License for the specific language governing permissions and\n",
              "// limitations under the License.\n",
              "\n",
              "/**\n",
              " * @fileoverview Helpers for google.colab Python module.\n",
              " */\n",
              "(function(scope) {\n",
              "function span(text, styleAttributes = {}) {\n",
              "  const element = document.createElement('span');\n",
              "  element.textContent = text;\n",
              "  for (const key of Object.keys(styleAttributes)) {\n",
              "    element.style[key] = styleAttributes[key];\n",
              "  }\n",
              "  return element;\n",
              "}\n",
              "\n",
              "// Max number of bytes which will be uploaded at a time.\n",
              "const MAX_PAYLOAD_SIZE = 100 * 1024;\n",
              "\n",
              "function _uploadFiles(inputId, outputId) {\n",
              "  const steps = uploadFilesStep(inputId, outputId);\n",
              "  const outputElement = document.getElementById(outputId);\n",
              "  // Cache steps on the outputElement to make it available for the next call\n",
              "  // to uploadFilesContinue from Python.\n",
              "  outputElement.steps = steps;\n",
              "\n",
              "  return _uploadFilesContinue(outputId);\n",
              "}\n",
              "\n",
              "// This is roughly an async generator (not supported in the browser yet),\n",
              "// where there are multiple asynchronous steps and the Python side is going\n",
              "// to poll for completion of each step.\n",
              "// This uses a Promise to block the python side on completion of each step,\n",
              "// then passes the result of the previous step as the input to the next step.\n",
              "function _uploadFilesContinue(outputId) {\n",
              "  const outputElement = document.getElementById(outputId);\n",
              "  const steps = outputElement.steps;\n",
              "\n",
              "  const next = steps.next(outputElement.lastPromiseValue);\n",
              "  return Promise.resolve(next.value.promise).then((value) => {\n",
              "    // Cache the last promise value to make it available to the next\n",
              "    // step of the generator.\n",
              "    outputElement.lastPromiseValue = value;\n",
              "    return next.value.response;\n",
              "  });\n",
              "}\n",
              "\n",
              "/**\n",
              " * Generator function which is called between each async step of the upload\n",
              " * process.\n",
              " * @param {string} inputId Element ID of the input file picker element.\n",
              " * @param {string} outputId Element ID of the output display.\n",
              " * @return {!Iterable<!Object>} Iterable of next steps.\n",
              " */\n",
              "function* uploadFilesStep(inputId, outputId) {\n",
              "  const inputElement = document.getElementById(inputId);\n",
              "  inputElement.disabled = false;\n",
              "\n",
              "  const outputElement = document.getElementById(outputId);\n",
              "  outputElement.innerHTML = '';\n",
              "\n",
              "  const pickedPromise = new Promise((resolve) => {\n",
              "    inputElement.addEventListener('change', (e) => {\n",
              "      resolve(e.target.files);\n",
              "    });\n",
              "  });\n",
              "\n",
              "  const cancel = document.createElement('button');\n",
              "  inputElement.parentElement.appendChild(cancel);\n",
              "  cancel.textContent = 'Cancel upload';\n",
              "  const cancelPromise = new Promise((resolve) => {\n",
              "    cancel.onclick = () => {\n",
              "      resolve(null);\n",
              "    };\n",
              "  });\n",
              "\n",
              "  // Wait for the user to pick the files.\n",
              "  const files = yield {\n",
              "    promise: Promise.race([pickedPromise, cancelPromise]),\n",
              "    response: {\n",
              "      action: 'starting',\n",
              "    }\n",
              "  };\n",
              "\n",
              "  cancel.remove();\n",
              "\n",
              "  // Disable the input element since further picks are not allowed.\n",
              "  inputElement.disabled = true;\n",
              "\n",
              "  if (!files) {\n",
              "    return {\n",
              "      response: {\n",
              "        action: 'complete',\n",
              "      }\n",
              "    };\n",
              "  }\n",
              "\n",
              "  for (const file of files) {\n",
              "    const li = document.createElement('li');\n",
              "    li.append(span(file.name, {fontWeight: 'bold'}));\n",
              "    li.append(span(\n",
              "        `(${file.type || 'n/a'}) - ${file.size} bytes, ` +\n",
              "        `last modified: ${\n",
              "            file.lastModifiedDate ? file.lastModifiedDate.toLocaleDateString() :\n",
              "                                    'n/a'} - `));\n",
              "    const percent = span('0% done');\n",
              "    li.appendChild(percent);\n",
              "\n",
              "    outputElement.appendChild(li);\n",
              "\n",
              "    const fileDataPromise = new Promise((resolve) => {\n",
              "      const reader = new FileReader();\n",
              "      reader.onload = (e) => {\n",
              "        resolve(e.target.result);\n",
              "      };\n",
              "      reader.readAsArrayBuffer(file);\n",
              "    });\n",
              "    // Wait for the data to be ready.\n",
              "    let fileData = yield {\n",
              "      promise: fileDataPromise,\n",
              "      response: {\n",
              "        action: 'continue',\n",
              "      }\n",
              "    };\n",
              "\n",
              "    // Use a chunked sending to avoid message size limits. See b/62115660.\n",
              "    let position = 0;\n",
              "    do {\n",
              "      const length = Math.min(fileData.byteLength - position, MAX_PAYLOAD_SIZE);\n",
              "      const chunk = new Uint8Array(fileData, position, length);\n",
              "      position += length;\n",
              "\n",
              "      const base64 = btoa(String.fromCharCode.apply(null, chunk));\n",
              "      yield {\n",
              "        response: {\n",
              "          action: 'append',\n",
              "          file: file.name,\n",
              "          data: base64,\n",
              "        },\n",
              "      };\n",
              "\n",
              "      let percentDone = fileData.byteLength === 0 ?\n",
              "          100 :\n",
              "          Math.round((position / fileData.byteLength) * 100);\n",
              "      percent.textContent = `${percentDone}% done`;\n",
              "\n",
              "    } while (position < fileData.byteLength);\n",
              "  }\n",
              "\n",
              "  // All done.\n",
              "  yield {\n",
              "    response: {\n",
              "      action: 'complete',\n",
              "    }\n",
              "  };\n",
              "}\n",
              "\n",
              "scope.google = scope.google || {};\n",
              "scope.google.colab = scope.google.colab || {};\n",
              "scope.google.colab._files = {\n",
              "  _uploadFiles,\n",
              "  _uploadFilesContinue,\n",
              "};\n",
              "})(self);\n",
              "</script> "
            ]
          },
          "metadata": {}
        },
        {
          "output_type": "stream",
          "name": "stdout",
          "text": [
            "Saving bank_registration.py to bank_registration.py\n"
          ]
        },
        {
          "output_type": "execute_result",
          "data": {
            "text/plain": [
              "{'bank_registration.py': b'# -*- coding: utf-8 -*-\\n\"\"\"Assignment 2a_Bank_Registration.ipynb\\n\\nAutomatically generated by Colaboratory.\\n\\nOriginal file is located at\\n    https://colab.research.google.com/drive/1WAXBOabZVX4tYjyGkMWE2A5VoYmuQFvB\\n\"\"\"\\n\\n#Task Overview:\\n#For this assignment, you are required to use class and save it as a module. Your task involves\\n#creating a class to register a bank account with the following specifications:\\n\\n#1. Class Creation:\\n#\\xe2\\x80\\xa2 Write a class to register a bank account.\\n#\\xe2\\x80\\xa2 The class should include attributes for the username, full name, IC number, city, and telephone number.\\n#\\xe2\\x80\\xa2 The class needs to record the initial savings for that account, with a minimum balance requirement of RM20.\\n#\\xe2\\x80\\xa2 The class should include various methods, such as functions for depositing money, withdrawing money, checking the balance, and closing the account. Please ensure that\\n#the minimum balance requirement is enforced when a user attempts to withdraw money.\\n\\n#2. Child Class Creation:\\n#\\xe2\\x80\\xa2 Consider the above class as the parent class.\\n#\\xe2\\x80\\xa2 Note that accounts for individuals below 18 years old must be registered under one of\\n#their parents.\\n#\\xe2\\x80\\xa2 Create a child class representing child accounts registered under their parents.\\n\\nclass ParentsAccount:\\n    \"\"\"Basic Bank Account for Parents.\"\"\"\\n    def __init__(self, username, full_name, ic_number, city, phone_number, initial_savings):\\n        self.username = username\\n        self.full_name = full_name\\n        self.ic_number = ic_number\\n        self.city = city\\n        self.phone_number = phone_number\\n        self.balance = max(initial_savings, 20)\\n\\n    def deposit(self, amount):\\n        \"\"\"Deposited money to the account\"\"\"\\n        if amount > 0:\\n            self.balance += amount\\n            print(\"You have deposited RM\" + str(amount) + \" . New balance: RM\" + str(self.balance))\\n        else:\\n            print(\"Invalid deposit amount.\")\\n\\n    def withdraw(self, amount):\\n        \"\"\"Withdrawing amount of money.\"\"\"\\n        if amount > 0:\\n            if self.balance - amount >= 20:\\n                self.balance -= amount\\n                print(\"Your transaction of RM\" + str(amount) + \" is successful. New balance: RM\" + str(self.balance))\\n            else:\\n                print(\"Invalid withdrawal amount.\")\\n\\n    def check_balance(self):\\n        \"\"\"Display the current balance.\"\"\"\\n        print(\"Current balance: RM\" + str(self.balance))\\n\\n    def close_account(self):\\n        \"\"\"Closing the account.\"\"\"\\n        print(\"Remainig balance is RM\" + str(self.balance) + \". Account for \" + self.full_name.title() + \" is closed.\")\\n\\nclass ChildAccount(ParentsAccount):\\n    def __init__(self, username, full_name, ic_number, city, phone_number, initial_savings, parents_name, age):\\n        if age >= 18:\\n            raise ValueError(\"Please note that for child account creation, child must be below 18 years old.\")\\n        super().__init__(username, full_name, ic_number, city, phone_number, initial_savings)\\n        self.parents_name = parents_name\\n        self.age = age\\n\\n'}"
            ]
          },
          "metadata": {},
          "execution_count": 2
        }
      ],
      "source": [
        "# Upload a file called Bank_Registration.py\n",
        "from google.colab import files\n",
        "files.upload()"
      ]
    },
    {
      "cell_type": "code",
      "source": [
        "from bank_registration import ParentsAccount\n",
        "\n",
        "# Scenario 1: Setting up a Parent's Bank Account and Transaction\n",
        "print(\"Scenario 1: Parents Bank Account Creations\")\n",
        "parents_account = ParentsAccount(\"azlinrusnan\", \"Azlin Rusnan\", \"910514146676\", \"Kuala Lumpur\", \"0196354847\", 100)\n",
        "print(\"Account created for: \" + parents_account.full_name)\n",
        "\n",
        "print(\"\\n--- Deposits for Parents Account ---\")\n",
        "parents_account.deposit(50)\n",
        "\n",
        "print(\"\\n--- Withdrawal from Parents Account ---\")\n",
        "parents_account.withdraw(30)\n",
        "\n",
        "print(\"\\n--- Checking Account Balance ---\")\n",
        "parents_account.check_balance()\n",
        "\n",
        "print(\"\\n--- Account Closure ---\")\n",
        "parents_account.close_account()\n"
      ],
      "metadata": {
        "colab": {
          "base_uri": "https://localhost:8080/"
        },
        "id": "IDTmmYAdVQuG",
        "outputId": "b9e5a732-e7e4-4bc5-e34f-81f02a9c0344"
      },
      "execution_count": 10,
      "outputs": [
        {
          "output_type": "stream",
          "name": "stdout",
          "text": [
            "Scenario 1: Parents Bank Account Creations\n",
            "Account created for: Azlin Rusnan\n",
            "\n",
            "--- Deposits for Parents Account ---\n",
            "You have deposited RM50 . New balance: RM150\n",
            "\n",
            "--- Withdrawal from Parents Account ---\n",
            "Your transaction of RM30 is successful. New balance: RM120\n",
            "\n",
            "--- Checking Account Balance ---\n",
            "Current balance: RM120\n",
            "\n",
            "--- Account Closure ---\n",
            "Remainig balance is RM120. Account for Azlin Rusnan is closed.\n"
          ]
        }
      ]
    },
    {
      "cell_type": "code",
      "source": [
        "from bank_registration import ChildAccount\n",
        "\n",
        "# Scenario 2: Opening a Child Account and Performing Transactions\n",
        "print(\"Scenario 2: Child Bank Account Creations\")\n",
        "child_account = ChildAccount(\"eusoff_anaqey\", \"Eusoff Anaqey\", \"180*1416005*\", \"Putrajaya\", \"0196354847\", 50, \"Azlin Rusnan\", 15)\n",
        "print(\"Account created for: \" + child_account.full_name)\n",
        "print(\"Age:\" + str(child_account.age))\n",
        "\n",
        "print(\"\\n--- Regular Deposits for Child Account ---\")\n",
        "child_account.deposit(20)\n",
        "\n",
        "print(\"\\n--- Withdrawal from Child Account ---\")\n",
        "child_account.withdraw(10)\n",
        "\n",
        "print(\"\\n--- Checking Account Balance ---\")\n",
        "child_account.check_balance()\n",
        "\n",
        "print(\"\\n--- Account Closure ---\")\n",
        "child_account.close_account()\n",
        "\n"
      ],
      "metadata": {
        "colab": {
          "base_uri": "https://localhost:8080/"
        },
        "id": "oMo8ofVJXTBd",
        "outputId": "86e9d0b7-14a1-4dc2-b87a-edb333e4cc01"
      },
      "execution_count": 6,
      "outputs": [
        {
          "output_type": "stream",
          "name": "stdout",
          "text": [
            "Scenario 2: Child Bank Account Creations\n",
            "Account created for: Eusoff Anaqey\n",
            "Age:15\n",
            "\n",
            "--- Regular Deposits for Child Account ---\n",
            "You have deposited RM20 . New balance: RM70\n",
            "\n",
            "--- Withdrawal from Child Account ---\n",
            "Your transaction of RM10 is successful. New balance: RM60\n",
            "\n",
            "--- Checking Account Balance ---\n",
            "Current balance: RM60\n",
            "\n",
            "--- Account Closure ---\n",
            "Remainig balance is RM60. Account for Eusoff Anaqey is closed.\n"
          ]
        }
      ]
    },
    {
      "cell_type": "code",
      "source": [
        "# Scenario 3: Creating a child account for education savings\n",
        "print(\"Scenario 3: Managing Child's Savings for Education\")\n",
        "education_account = ChildAccount(\"emirr_azraqey\", \"Emirr Azraqey\", \"140605040555\", \"Putrajaya\", \"0123456789\", 500, \"Azlin Rusnan\", 10)\n",
        "print(\"Education account created for: \", education_account.full_name)\n",
        "\n",
        "# Parents make regular deposits into the account\n",
        "print(\"\\n--- Regular Deposits for Education Savings ---\")\n",
        "education_account.deposit(200)\n",
        "education_account.deposit(300)\n",
        "\n",
        "print(\"\\n--- Withdrawal for School Fees ---\")\n",
        "education_account.withdraw(400)\n",
        "\n",
        "print(\"\\n--- Checking Account Balance ---\")\n",
        "education_account.check_balance()\n",
        "\n",
        "# Closing the account as the child turns 18\n",
        "print(\"\\n--- Account Closure ---\")\n",
        "education_account.age = 18  # Account will be closed when the child turns 18\n",
        "education_account.close_account()\n",
        "\n",
        "\n"
      ],
      "metadata": {
        "colab": {
          "base_uri": "https://localhost:8080/"
        },
        "id": "ty20lANzXmJi",
        "outputId": "92074622-79a6-423a-ae2f-f43490f5b4f5"
      },
      "execution_count": 8,
      "outputs": [
        {
          "output_type": "stream",
          "name": "stdout",
          "text": [
            "Scenario 3: Managing Child's Savings for Education\n",
            "Education account created for:  Emirr Azraqey\n",
            "\n",
            "--- Regular Deposits for Education Savings ---\n",
            "You have deposited RM200 . New balance: RM700\n",
            "You have deposited RM300 . New balance: RM1000\n",
            "\n",
            "--- Withdrawal for School Fees ---\n",
            "Your transaction of RM400 is successful. New balance: RM600\n",
            "\n",
            "--- Checking Account Balance ---\n",
            "Current balance: RM600\n",
            "\n",
            "--- Account Closure ---\n",
            "Remainig balance is RM600. Account for Emirr Azraqey is closed.\n"
          ]
        }
      ]
    }
  ]
}