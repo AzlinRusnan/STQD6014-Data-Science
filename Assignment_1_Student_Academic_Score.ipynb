{
  "nbformat": 4,
  "nbformat_minor": 0,
  "metadata": {
    "colab": {
      "provenance": [],
      "authorship_tag": "ABX9TyP8b3VLO0cH0grfBgSlgUrs",
      "include_colab_link": true
    },
    "kernelspec": {
      "name": "python3",
      "display_name": "Python 3"
    },
    "language_info": {
      "name": "python"
    }
  },
  "cells": [
    {
      "cell_type": "markdown",
      "metadata": {
        "id": "view-in-github",
        "colab_type": "text"
      },
      "source": [
        "<a href=\"https://colab.research.google.com/github/AzlinRusnan/STQD6014-Data-Science/blob/main/Assignment_1_Student_Academic_Score.ipynb\" target=\"_parent\"><img src=\"https://colab.research.google.com/assets/colab-badge.svg\" alt=\"Open In Colab\"/></a>"
      ]
    },
    {
      "cell_type": "code",
      "source": [
        "# As teacher normally do the grading, this coding is from teacher's perpective. Lets go!\n",
        "\n",
        "# Subjects is pre-determined to Physics, Math, English and Chemistry.\n",
        "subjects = ['Physics', 'Mathematics', 'English', 'Chemistry']\n",
        "students = {} # Initialize an empty dictionary to store student names and their subject and grades.\n",
        "\n",
        "teacher = input(\"Enter teacher's name: \")\n",
        "num_students = int(input(\"Greetings Teacher \" + teacher.title() + \",\" + \" how many student do you have in class: \"))\n",
        "for i in range(num_students):\n",
        "    while True:\n",
        "        student_name = input(\"\\nEnter the name of student \" + str(i+1) + \": \")\n",
        "        if any(char.isdigit() for char in student_name): # Check if the student name contains numeric characters\n",
        "            print(\"Error: Student name cannot be in numeric characters\")\n",
        "            continue # If contain error, it will repeat asking for correct name\n",
        "\n",
        "        students[student_name] = {}\n",
        "        for subject in subjects:\n",
        "            while True:\n",
        "                grade = int(input(\"Enter \" + subject + \" grade for \" + student_name.title() + \": \"))\n",
        "                if grade<0 or grade>100:\n",
        "                    print(\"Error: Grade must be between 0 to 100\")\n",
        "                else:\n",
        "                    students[student_name][subject] = grade\n",
        "                    break # to loop until finish lists in subjects\n",
        "\n",
        "        break # To loop for in the range of num_students\n",
        "\n",
        "print(\"\\n*****************************************\")\n",
        "print(\"       Summary of Student's Grade\")\n",
        "print(\"*****************************************\")\n",
        "\n",
        "# Calculation for average grade and display the grade and average grade for each student\n",
        "average_grades = {}\n",
        "for student, grades in students.items():\n",
        "    average = sum(grades.values()) / len(grades)\n",
        "    average_grades[student] = average\n",
        "\n",
        "    print(student.title() + \"'s Grades: \")\n",
        "    for subject, grade in grades.items():\n",
        "        print(subject + \": \" + str(grade))\n",
        "    print(\"Average Grade: \" + str(average) + \"\\n\")\n",
        "\n",
        "# Highest and lowest grades\n",
        "highest_average = max(average_grades.values())\n",
        "lowest_average = min(average_grades.values())\n",
        "\n",
        "# Students with the highest average grade\n",
        "student_with_highest_average = []\n",
        "for student, avg in average_grades.items():\n",
        "    if avg == highest_average:\n",
        "        student_with_highest_average.append(student)\n",
        "\n",
        "# Students with the lowest average grade\n",
        "student_with_lowest_average = []\n",
        "for student, avg in average_grades.items():\n",
        "    if avg == lowest_average:\n",
        "        student_with_lowest_average.append(student)\n",
        "\n",
        "# Display the results\n",
        "print(\"Highest Average Grade: \")\n",
        "for student in student_with_highest_average:\n",
        "    print(student.title() + \": \" + str(highest_average))\n",
        "\n",
        "print(\"\\nLowest Average Grade: \")\n",
        "for student in student_with_lowest_average:\n",
        "    print(student.title() + \": \" + str(lowest_average))"
      ],
      "metadata": {
        "colab": {
          "base_uri": "https://localhost:8080/"
        },
        "id": "reP9QjFXEDCt",
        "outputId": "701f8b78-828a-44b2-eb09-eab2b8e5bd8b"
      },
      "execution_count": 2,
      "outputs": [
        {
          "output_type": "stream",
          "name": "stdout",
          "text": [
            "Enter teacher's name: azlin\n",
            "Greetings Teacher Azlin, how many student do you have in class: 3\n",
            "\n",
            "Enter the name of student 1: maisara\n",
            "Enter Physics grade for Maisara: 90\n",
            "Enter Mathematics grade for Maisara: 85\n",
            "Enter English grade for Maisara: 76\n",
            "Enter Chemistry grade for Maisara: 93\n",
            "\n",
            "Enter the name of student 2: aziz\n",
            "Enter Physics grade for Aziz: 90\n",
            "Enter Mathematics grade for Aziz: 85\n",
            "Enter English grade for Aziz: 76\n",
            "Enter Chemistry grade for Aziz: 93\n",
            "\n",
            "Enter the name of student 3: aqeela\n",
            "Enter Physics grade for Aqeela: 100\n",
            "Enter Mathematics grade for Aqeela: 100\n",
            "Enter English grade for Aqeela: 100\n",
            "Enter Chemistry grade for Aqeela: 100\n",
            "\n",
            "*****************************************\n",
            "       Summary of Student's Grade\n",
            "*****************************************\n",
            "Maisara's Grades: \n",
            "Physics: 90\n",
            "Mathematics: 85\n",
            "English: 76\n",
            "Chemistry: 93\n",
            "Average Grade: 86.0\n",
            "\n",
            "Aziz's Grades: \n",
            "Physics: 90\n",
            "Mathematics: 85\n",
            "English: 76\n",
            "Chemistry: 93\n",
            "Average Grade: 86.0\n",
            "\n",
            "Aqeela's Grades: \n",
            "Physics: 100\n",
            "Mathematics: 100\n",
            "English: 100\n",
            "Chemistry: 100\n",
            "Average Grade: 100.0\n",
            "\n",
            "Highest Average Grade: \n",
            "Aqeela: 100.0\n",
            "\n",
            "Lowest Average Grade: \n",
            "Maisara: 86.0\n",
            "Aziz: 86.0\n"
          ]
        }
      ]
    }
  ]
}