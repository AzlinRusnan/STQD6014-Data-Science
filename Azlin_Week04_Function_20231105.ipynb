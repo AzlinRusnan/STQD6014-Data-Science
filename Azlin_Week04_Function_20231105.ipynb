{
  "nbformat": 4,
  "nbformat_minor": 0,
  "metadata": {
    "colab": {
      "provenance": [],
      "include_colab_link": true
    },
    "kernelspec": {
      "name": "python3",
      "display_name": "Python 3"
    },
    "language_info": {
      "name": "python"
    }
  },
  "cells": [
    {
      "cell_type": "markdown",
      "metadata": {
        "id": "view-in-github",
        "colab_type": "text"
      },
      "source": [
        "<a href=\"https://colab.research.google.com/github/AzlinRusnan/STQD6014-Data-Science/blob/main/Azlin_Week04_Function_20231105.ipynb\" target=\"_parent\"><img src=\"https://colab.research.google.com/assets/colab-badge.svg\" alt=\"Open In Colab\"/></a>"
      ]
    },
    {
      "cell_type": "markdown",
      "source": [
        "# **Week 04: Function**"
      ],
      "metadata": {
        "id": "xDWtjtCRv5nM"
      }
    },
    {
      "cell_type": "markdown",
      "source": [
        "# **Exercise 1**: Define a function, as well as adding in ***docstring***"
      ],
      "metadata": {
        "id": "IlALFMKBxFxq"
      }
    },
    {
      "cell_type": "code",
      "execution_count": 1,
      "metadata": {
        "id": "IkiFITWFAN5g"
      },
      "outputs": [],
      "source": [
        "# Define a greet_user function\n",
        "# Use the docstring in triple quotes to explain what your function would like to do\n",
        "# Always remember to put this docstring\n",
        "def greet_user():\n",
        "    \"\"\"Display a simple greeting\"\"\"\n",
        "    print(\"Hello!\")"
      ]
    },
    {
      "cell_type": "code",
      "source": [
        "# Call the greet_user function\n",
        "greet_user()"
      ],
      "metadata": {
        "colab": {
          "base_uri": "https://localhost:8080/"
        },
        "id": "Ck9cmWJQ8nI9",
        "outputId": "1a649f4d-6a8f-4eb2-aa16-13586e9c4260"
      },
      "execution_count": 2,
      "outputs": [
        {
          "output_type": "stream",
          "name": "stdout",
          "text": [
            "Hello!\n"
          ]
        }
      ]
    },
    {
      "cell_type": "code",
      "source": [
        "# Call the greet_user function\n",
        "help(greet_user)"
      ],
      "metadata": {
        "colab": {
          "base_uri": "https://localhost:8080/"
        },
        "id": "Jheyw7x1Qhnu",
        "outputId": "9c2d9206-b5f1-4c41-cdd4-945d915ca5b0"
      },
      "execution_count": 3,
      "outputs": [
        {
          "output_type": "stream",
          "name": "stdout",
          "text": [
            "Help on function greet_user in module __main__:\n",
            "\n",
            "greet_user()\n",
            "    Display a simple greeting\n",
            "\n"
          ]
        }
      ]
    },
    {
      "cell_type": "markdown",
      "source": [
        "# **Docstring**\n",
        "A Python docstring is a string used to document a Python module, class, function or method, so programmers can understand what it does without having to read the details of the implementation. Please visit this link for more information about docstring: https://pandas.pydata.org/docs/development/contributing_docstring.html"
      ],
      "metadata": {
        "id": "PRMGVvQhyDzY"
      }
    },
    {
      "cell_type": "markdown",
      "source": [
        "# **Exercise 2**: Passing *parameter* and *arguments* to a Function"
      ],
      "metadata": {
        "id": "cfszVmi5xi80"
      }
    },
    {
      "cell_type": "code",
      "source": [
        "# Define a greet_user function\n",
        "# Add parameter to the greet_user function\n",
        "def greet_user(username, hobby): #<- username here is parameter\n",
        "    \"\"\"Display a simple greeting.\"\"\"\n",
        "    print(\"Hello \" + username.title() + \"!\")\n",
        "\n",
        "#provide an argument to the greet_user function\n",
        "greet_user('Afiqah') # <- Afiqah here is an argument"
      ],
      "metadata": {
        "colab": {
          "base_uri": "https://localhost:8080/"
        },
        "id": "UP1WYL-vB5nr",
        "outputId": "4285a6a9-ac42-4b1b-c9c7-f66704aac41c"
      },
      "execution_count": 5,
      "outputs": [
        {
          "output_type": "stream",
          "name": "stdout",
          "text": [
            "Hello Afiqah!\n"
          ]
        }
      ]
    },
    {
      "cell_type": "markdown",
      "source": [
        "# **Exercise 3**: Positional Arguments"
      ],
      "metadata": {
        "id": "WGpVqCD4zy0i"
      }
    },
    {
      "cell_type": "code",
      "source": [
        "# Define a describe_pet function\n",
        "def describe_pet(animal_type, pet_name):\n",
        "    \"\"\"Display information about a pet.\"\"\"\n",
        "    print(\"I have a \" + animal_type + \".\")\n",
        "    print(\"My \" + animal_type + \"'s name is \" + pet_name.title() + \".\\n\")"
      ],
      "metadata": {
        "id": "-IRdYt6QFcCx"
      },
      "execution_count": 6,
      "outputs": []
    },
    {
      "cell_type": "code",
      "source": [
        "# Test the describe_pet function\n",
        "# The order of the positional arguments matters\n",
        "describe_pet(\"thomson\", \"goldfish\") # <- order of the positional argument is important"
      ],
      "metadata": {
        "colab": {
          "base_uri": "https://localhost:8080/"
        },
        "id": "PEXMbSAN-iBU",
        "outputId": "f87c390e-b349-40da-9b41-151f22be226b"
      },
      "execution_count": 9,
      "outputs": [
        {
          "output_type": "stream",
          "name": "stdout",
          "text": [
            "I have a thomson.\n",
            "My thomson's name isGoldfish.\n",
            "\n"
          ]
        }
      ]
    },
    {
      "cell_type": "code",
      "source": [
        "# To solve above error\n",
        "describe_pet(\"cat\", \"luna\")"
      ],
      "metadata": {
        "colab": {
          "base_uri": "https://localhost:8080/"
        },
        "id": "A6o5dfvdTCyM",
        "outputId": "b1f43181-2eaa-4f16-e5a8-5bc77fd256f6"
      },
      "execution_count": 8,
      "outputs": [
        {
          "output_type": "stream",
          "name": "stdout",
          "text": [
            "I have a cat.\n",
            "My cat's name isLuna.\n",
            "\n"
          ]
        }
      ]
    },
    {
      "cell_type": "code",
      "source": [
        "# Getting help on the describe_pet function\n",
        "help(describe_pet)"
      ],
      "metadata": {
        "colab": {
          "base_uri": "https://localhost:8080/"
        },
        "id": "oxhFylyf-8eU",
        "outputId": "17ad168b-9080-44a4-b8be-f954e0252522"
      },
      "execution_count": 10,
      "outputs": [
        {
          "output_type": "stream",
          "name": "stdout",
          "text": [
            "Help on function describe_pet in module __main__:\n",
            "\n",
            "describe_pet(animal_type, pet_name)\n",
            "    Display information about a pet.\n",
            "\n"
          ]
        }
      ]
    },
    {
      "cell_type": "markdown",
      "source": [
        "# **Exercise 4**: Keyword arguments"
      ],
      "metadata": {
        "id": "ZViIdqbl0605"
      }
    },
    {
      "cell_type": "code",
      "source": [
        "# Define the describe_pet function\n",
        "def describe_pet(animal_type, pet_name):\n",
        "    \"\"\"Display information about a pet.\"\"\"\n",
        "    print(\"I have a \" + animal_type + \".\")\n",
        "    print(\"My \" + animal_type + \"'s name is \" + pet_name.title() + \".\\n\")"
      ],
      "metadata": {
        "id": "XVdLsYeJH2qR"
      },
      "execution_count": 11,
      "outputs": []
    },
    {
      "cell_type": "code",
      "source": [
        "# Define the argument explicitly\n",
        "# In this case, the order of the argument does not matter\n",
        "describe_pet(pet_name = 'harry', animal_type='hamster') # using this position is not important"
      ],
      "metadata": {
        "id": "mvGOJlm4_thO",
        "colab": {
          "base_uri": "https://localhost:8080/"
        },
        "outputId": "99280c45-363d-49d3-8a54-e52194db622c"
      },
      "execution_count": 13,
      "outputs": [
        {
          "output_type": "stream",
          "name": "stdout",
          "text": [
            "I have a hamster.\n",
            "My hamster's name is Harry.\n",
            "\n"
          ]
        }
      ]
    },
    {
      "cell_type": "markdown",
      "source": [
        "# **Exercise 5**: Default values"
      ],
      "metadata": {
        "id": "SFOVF2k25L-o"
      }
    },
    {
      "cell_type": "code",
      "source": [
        "# Adding default value for parameter in a function\n",
        "# Parameter with a default value needs to be listed after all the parameters that don’t have default values\n",
        "def describe_pet(pet_name, animal_type = 'lion'):\n",
        "    \"\"\"Display information about a pet.\"\"\"\n",
        "    print(\"I have a \" + animal_type + \".\")\n",
        "    print(\"My \" + animal_type + \"'s name is \" + pet_name.title() + \".\\n\")"
      ],
      "metadata": {
        "id": "BNvwMSVwIlI4"
      },
      "execution_count": 14,
      "outputs": []
    },
    {
      "cell_type": "code",
      "source": [
        "# Order of the positional argument matter: 1\n",
        "describe_pet(pet_name='simba')"
      ],
      "metadata": {
        "colab": {
          "base_uri": "https://localhost:8080/"
        },
        "id": "PCtQ7DW7BJjU",
        "outputId": "972d9cfe-8dbb-4cab-ff77-a0951e6babc8"
      },
      "execution_count": 15,
      "outputs": [
        {
          "output_type": "stream",
          "name": "stdout",
          "text": [
            "I have a lion.\n",
            "My lion's name is Simba.\n",
            "\n"
          ]
        }
      ]
    },
    {
      "cell_type": "code",
      "source": [
        "# Order of the positional argument matter: 2\n",
        "describe_pet('goldie')"
      ],
      "metadata": {
        "colab": {
          "base_uri": "https://localhost:8080/"
        },
        "id": "zKjwTqT2I10S",
        "outputId": "eb3916ff-b745-4bb7-eed4-abc8d3d8ed30"
      },
      "execution_count": 16,
      "outputs": [
        {
          "output_type": "stream",
          "name": "stdout",
          "text": [
            "I have a lion.\n",
            "My lion's name is Goldie.\n",
            "\n"
          ]
        }
      ]
    },
    {
      "cell_type": "code",
      "source": [
        "#Solve this\n",
        "describe_pet('goldie','gold fish')"
      ],
      "metadata": {
        "colab": {
          "base_uri": "https://localhost:8080/"
        },
        "id": "NORNJMkLVCaT",
        "outputId": "e1690894-94e4-45cd-c818-18e36eaa87b6"
      },
      "execution_count": 17,
      "outputs": [
        {
          "output_type": "stream",
          "name": "stdout",
          "text": [
            "I have a gold fish.\n",
            "My gold fish's name is Goldie.\n",
            "\n"
          ]
        }
      ]
    },
    {
      "cell_type": "code",
      "source": [
        "# Another example\n",
        "# Provide argument value in the correct order\n",
        "describe_pet('cat', 'coco')"
      ],
      "metadata": {
        "colab": {
          "base_uri": "https://localhost:8080/"
        },
        "id": "cM9TMx0WKe3L",
        "outputId": "5b52cb7a-0787-4c0b-d9e3-6d479eabc912"
      },
      "execution_count": 18,
      "outputs": [
        {
          "output_type": "stream",
          "name": "stdout",
          "text": [
            "I have a coco.\n",
            "My coco's name is Cat.\n",
            "\n"
          ]
        }
      ]
    },
    {
      "cell_type": "markdown",
      "source": [
        "# **Exercise 6**: Provide a variable where the *return value* can be stored."
      ],
      "metadata": {
        "id": "9Qv0uwI18l_K"
      }
    },
    {
      "cell_type": "code",
      "source": [
        "# Define a function named get_formatted_name\n",
        "# This function will return a value\n",
        "def get_formatted_name(first_name, last_name):\n",
        "    \"\"\"Return a full name, neatly formatted\"\"\"\n",
        "    full_name = first_name + ' ' + last_name #full_name here is the variable to store the names of the users\n",
        "    return full_name.title()"
      ],
      "metadata": {
        "id": "fjWqvKIJLkit"
      },
      "execution_count": 21,
      "outputs": []
    },
    {
      "cell_type": "code",
      "source": [
        "# Test the get_formatted_name function\n",
        "# Provide a variable for the returned full name\n",
        "musician = get_formatted_name('bernard', 'lee')\n",
        "print(musician)"
      ],
      "metadata": {
        "id": "IapBx7AgCHe8",
        "colab": {
          "base_uri": "https://localhost:8080/"
        },
        "outputId": "1e9232b0-0c67-4e7e-bc07-5043cd3f6eff"
      },
      "execution_count": 22,
      "outputs": [
        {
          "output_type": "stream",
          "name": "stdout",
          "text": [
            "Bernard Lee\n"
          ]
        }
      ]
    },
    {
      "cell_type": "markdown",
      "source": [
        "# **Exercise 7**: Making an argument optional"
      ],
      "metadata": {
        "id": "Z6mRZXQH9azm"
      }
    },
    {
      "cell_type": "code",
      "source": [
        "# Default value always goes last!\n",
        "# Use if-else statement\n",
        "def get_formatted_name(first_name, last_name, middle_name=''):\n",
        "    \"\"\"Return a full name, neatly formatted\"\"\"\n",
        "    if middle_name:\n",
        "        full_name = first_name + ' ' + middle_name + ' ' + last_name\n",
        "    else:\n",
        "        full_name = first_name + ' ' + last_name\n",
        "\n",
        "    return full_name.title()"
      ],
      "metadata": {
        "id": "Q8AyJMlZM5MA"
      },
      "execution_count": 23,
      "outputs": []
    },
    {
      "cell_type": "code",
      "source": [
        "# Function call 1\n",
        "musician = get_formatted_name('bernard', 'lee')\n",
        "print(musician)"
      ],
      "metadata": {
        "colab": {
          "base_uri": "https://localhost:8080/"
        },
        "id": "QMS7Cp88Dqcz",
        "outputId": "8959eef6-0cb6-4568-9950-854999fb497f"
      },
      "execution_count": 24,
      "outputs": [
        {
          "output_type": "stream",
          "name": "stdout",
          "text": [
            "Bernard Lee\n"
          ]
        }
      ]
    },
    {
      "cell_type": "code",
      "source": [
        "# Function call 2\n",
        "musician = get_formatted_name('john', 'hooker','lee')\n",
        "print(musician)"
      ],
      "metadata": {
        "colab": {
          "base_uri": "https://localhost:8080/"
        },
        "id": "hVnocPLiKF6H",
        "outputId": "f7f94fcc-0983-437e-e985-a3c468c8f6b2"
      },
      "execution_count": 25,
      "outputs": [
        {
          "output_type": "stream",
          "name": "stdout",
          "text": [
            "John Lee Hooker\n"
          ]
        }
      ]
    },
    {
      "cell_type": "markdown",
      "source": [
        "# **Exercise 8**: Returning a dictionary"
      ],
      "metadata": {
        "id": "lLlDqDvrjj2R"
      }
    },
    {
      "cell_type": "code",
      "source": [
        "# Define a function named build_person\n",
        "def build_person(first_name, last_name):\n",
        "    \"\"\"Return a dictionary of information about a person profile\"\"\"\n",
        "    person = {'first': first_name, 'last': last_name}\n",
        "    return person"
      ],
      "metadata": {
        "id": "HEvTY8j3ZQAD"
      },
      "execution_count": 27,
      "outputs": []
    },
    {
      "cell_type": "code",
      "source": [
        "# Test the build_person function\n",
        "# Create a variable named musician to collect information\n",
        "musician = build_person('bernard', 'lee')\n",
        "print(musician)"
      ],
      "metadata": {
        "colab": {
          "base_uri": "https://localhost:8080/"
        },
        "id": "M_d_w2FCEtes",
        "outputId": "8f03a851-e124-4321-8034-d6a795aa8a99"
      },
      "execution_count": 28,
      "outputs": [
        {
          "output_type": "stream",
          "name": "stdout",
          "text": [
            "{'first': 'bernard', 'last': 'lee'}\n"
          ]
        }
      ]
    },
    {
      "cell_type": "markdown",
      "source": [
        "# **Exercise 9**: accept optional values"
      ],
      "metadata": {
        "id": "KjYU_2E-kYON"
      }
    },
    {
      "cell_type": "code",
      "source": [
        "# Define the build_person function\n",
        "# Add in optional parameter age\n",
        "# using an if statement\n",
        "def build_person(first_name, last_name, age = ''):\n",
        "    \"\"\"Return a dictionary of information about a person profile\"\"\"\n",
        "    person = {'first': first_name, 'last': last_name}\n",
        "\n",
        "    if age:\n",
        "        person['age'] = age\n",
        "    return person"
      ],
      "metadata": {
        "id": "K75cMUYJZ0eD"
      },
      "execution_count": 29,
      "outputs": []
    },
    {
      "cell_type": "code",
      "source": [
        "# Test the build_person function\n",
        "musician = build_person('bernard', 'lee', age = 17)\n",
        "print(musician)"
      ],
      "metadata": {
        "colab": {
          "base_uri": "https://localhost:8080/"
        },
        "id": "iDs2WAEAFbeN",
        "outputId": "96c6cb96-2a52-4d63-8f3c-4390d3b565ea"
      },
      "execution_count": 30,
      "outputs": [
        {
          "output_type": "stream",
          "name": "stdout",
          "text": [
            "{'first': 'bernard', 'last': 'lee', 'age': 17}\n"
          ]
        }
      ]
    },
    {
      "cell_type": "markdown",
      "source": [
        "# **Exercise 10**: Using a Function with a while loop"
      ],
      "metadata": {
        "id": "CX7_XJIHlMu5"
      }
    },
    {
      "cell_type": "code",
      "source": [
        "# Define the get_formatted_name function\n",
        "def get_formatted_name(first_name, last_name):\n",
        "    \"\"\"Return a full name, neatly formatted\"\"\"\n",
        "    full_name = first_name + ' ' + last_name #full_name here is the variable to store the names of the users\n",
        "    return full_name.title()\n",
        "\n",
        "# Create an infinite loop!\n",
        "while True:\n",
        "    print(\"\\nPlease tell me your name:\")\n",
        "    print(\"(enter 'q' at any time to quit)\")\n",
        "\n",
        "    f_name = input(\"First name: \")\n",
        "    if f_name == 'q':\n",
        "        break\n",
        "\n",
        "    l_name = input(\"Last name: \")\n",
        "    if l_name == 'q':\n",
        "        break\n",
        "    formatted_name = get_formatted_name(f_name, l_name) #keep on amik new name #overwrite the first_name and last_name in get_formatted_name function\n",
        "    print(\"\\nHello, \" + formatted_name + \"!\")"
      ],
      "metadata": {
        "id": "DZ0vy89RaaVp",
        "colab": {
          "base_uri": "https://localhost:8080/"
        },
        "outputId": "5daf9f23-dc99-42b7-bfba-4a2395aa3e52"
      },
      "execution_count": 33,
      "outputs": [
        {
          "name": "stdout",
          "output_type": "stream",
          "text": [
            "\n",
            "Please tell me your name:\n",
            "(enter 'q' at any time to quit)\n",
            "First name: hasanah\n",
            "Last name: rusnan\n",
            "\n",
            "Hello, Hasanah Rusnan!\n",
            "\n",
            "Please tell me your name:\n",
            "(enter 'q' at any time to quit)\n",
            "First name: q\n"
          ]
        }
      ]
    },
    {
      "cell_type": "markdown",
      "source": [
        "# **Exercise 11**: Passing a list as an argument"
      ],
      "metadata": {
        "id": "bZSbbYVpmZr3"
      }
    },
    {
      "cell_type": "code",
      "source": [
        "# Define a greet_users function\n",
        "def greet_users(names):\n",
        "    \"\"\"Print a simple greeting to each other in the list\"\"\"\n",
        "    for name in names:\n",
        "        msg = \"Hello, \" + name.title() + \"!\"\n",
        "        print(msg)"
      ],
      "metadata": {
        "id": "FPng1sWXbQfq"
      },
      "execution_count": 34,
      "outputs": []
    },
    {
      "cell_type": "code",
      "source": [
        "# Test the greet_users function using a list\n",
        "nama = ['hasanah','khairil','\\'Aisyah'] #\"\\\" - back slash is a escape character\n",
        "greet_users(nama)"
      ],
      "metadata": {
        "colab": {
          "base_uri": "https://localhost:8080/"
        },
        "id": "Lhfdz56YmpVo",
        "outputId": "923e9df9-788c-4dff-a0a6-c3f8db1bf4a2"
      },
      "execution_count": 36,
      "outputs": [
        {
          "output_type": "stream",
          "name": "stdout",
          "text": [
            "Hello, Hasanah!\n",
            "Hello, Khairil!\n",
            "Hello, 'Aisyah!\n"
          ]
        }
      ]
    },
    {
      "cell_type": "markdown",
      "source": [
        "# **Exercise 12**: Modifying a list in a function"
      ],
      "metadata": {
        "id": "1TMRT2Cym1yd"
      }
    },
    {
      "cell_type": "code",
      "source": [
        "# Define a print_models function\n",
        "# Using unprinted_designs and completed_models as parameters\n",
        "# Using a while loop\n",
        "def print_models(unprinted_designs, completed_models):\n",
        "    \"\"\"\n",
        "    Simulate printing each design, until none are left\n",
        "    Move each printed design to completed_models after printing\n",
        "    \"\"\"\n",
        "    while unprinted_designs:\n",
        "        current_design = unprinted_designs.pop()\n",
        "\n",
        "        print(\"Printing model: \" + current_design)\n",
        "        completed_models.append(current_design)\n",
        "\n",
        "\n",
        "# Define a show_completed_models function\n",
        "def show_completed_models(completed_models):\n",
        "    \"\"\"Show all the models that were printed\"\"\"\n",
        "    print(\"\\nThe following models have been printed: \")\n",
        "    for completed_model in completed_models:\n",
        "        print(completed_model)"
      ],
      "metadata": {
        "id": "IREmpvmldZ8M"
      },
      "execution_count": 38,
      "outputs": []
    },
    {
      "cell_type": "code",
      "source": [
        "# Given the unprinted_designs and complete_models variable\n",
        "unprinted_designs = ['iphone pro max case', 'Malaysia flag', 'UKM Watan logo']\n",
        "completed_models = []\n",
        "# Test run the two functions\n",
        "print_models(unprinted_designs, completed_models)\n",
        "show_completed_models(completed_models)"
      ],
      "metadata": {
        "colab": {
          "base_uri": "https://localhost:8080/"
        },
        "id": "Fjy5lk5teH3l",
        "outputId": "120dcd0a-65b5-44df-adba-3fbec223eb47"
      },
      "execution_count": 39,
      "outputs": [
        {
          "output_type": "stream",
          "name": "stdout",
          "text": [
            "Printing model: UKM Watan logo\n",
            "Printing model: Malaysia flag\n",
            "Printing model: iphone pro max case\n",
            "\n",
            "The following models have been printed: \n",
            "UKM Watan logo\n",
            "Malaysia flag\n",
            "iphone pro max case\n"
          ]
        }
      ]
    },
    {
      "cell_type": "code",
      "source": [
        "# Print the final unprinted_designs\n",
        "print(unprinted_designs)\n",
        "\n",
        "# Print the final completed_models\n",
        "print(completed_models)"
      ],
      "metadata": {
        "colab": {
          "base_uri": "https://localhost:8080/"
        },
        "id": "tFATM-3CoMUZ",
        "outputId": "b7b04398-0c38-4f12-88df-828c9983de72"
      },
      "execution_count": 40,
      "outputs": [
        {
          "output_type": "stream",
          "name": "stdout",
          "text": [
            "[]\n",
            "['UKM Watan logo', 'Malaysia flag', 'iphone pro max case']\n"
          ]
        }
      ]
    },
    {
      "cell_type": "markdown",
      "source": [
        "# **Exercise 13**: Passing an Arbitrary Number of Arguments"
      ],
      "metadata": {
        "id": "40hG76PqofzK"
      }
    },
    {
      "cell_type": "code",
      "source": [
        "# Define a make_pizza function\n",
        "# Using an asterisk (*) to make a tuple # tuple is cannot change\n",
        "# Using a for loop\n",
        "def make_pizza(size, *toppings):\n",
        "    \"\"\"Summarise the pizza we are about to make\"\"\"\n",
        "    print(\"\\nMaking a \" + str(size) + \"-inch pizza with the following toppings:\")\n",
        "\n",
        "    for topping in toppings:\n",
        "        print(\"-\" + topping)"
      ],
      "metadata": {
        "id": "SPUnVgGrgdfM"
      },
      "execution_count": 41,
      "outputs": []
    },
    {
      "cell_type": "code",
      "source": [
        "# Test run the make_pizza function: 1\n",
        "make_pizza(16, 'tuna dan nanas')"
      ],
      "metadata": {
        "colab": {
          "base_uri": "https://localhost:8080/"
        },
        "id": "c8hWWwENglJT",
        "outputId": "bce5280d-8b68-450b-e68e-13b140e01795"
      },
      "execution_count": 43,
      "outputs": [
        {
          "output_type": "stream",
          "name": "stdout",
          "text": [
            "\n",
            "Making a 16-inch pizza with the following toppings:\n",
            "-tuna dan nanas\n"
          ]
        }
      ]
    },
    {
      "cell_type": "code",
      "source": [
        "# Test run the make_pizza function: 2\n",
        "make_pizza(16, 'tuna', 'nanas', 'extra cheese' ,'crab meat', 'pickles')"
      ],
      "metadata": {
        "colab": {
          "base_uri": "https://localhost:8080/"
        },
        "id": "i6MY1O6GMvhl",
        "outputId": "d911b2e3-d588-4f70-9b0c-2aea584ba385"
      },
      "execution_count": 45,
      "outputs": [
        {
          "output_type": "stream",
          "name": "stdout",
          "text": [
            "\n",
            "Making a 16-inch pizza with the following toppings:\n",
            "-tuna\n",
            "-nanas\n",
            "-extra cheese\n",
            "-crab meat\n",
            "-pickles\n"
          ]
        }
      ]
    },
    {
      "cell_type": "markdown",
      "source": [
        "# **What is a *python tuple*?**\n",
        "Python tuples are a type of data structure that is very similar to lists. The main difference between the two is that ***tuples are immutable***, meaning they ***cannot be changed once they are created***. This makes them ideal for storing data that ***should not be modified, such as database records***.\n",
        "\n",
        "For more information, please visit this link: https://tinyurl.com/yv7b3dzw"
      ],
      "metadata": {
        "id": "8G4FXQ_9pPlS"
      }
    },
    {
      "cell_type": "markdown",
      "source": [
        "# **Exercise 14**: Using arbitrary keyword arguments"
      ],
      "metadata": {
        "id": "ot-m1uP4p77o"
      }
    },
    {
      "cell_type": "code",
      "source": [
        "# Define a build_profile function\n",
        "# Use a double asterisk (**) to create empty dictionary [to store key-value pairs]\n",
        "# Using a for loop\n",
        "def build_profile(first,last,**user_info):\n",
        "    \"\"\"Build a dictionary containing everything we know about a user\"\"\"\n",
        "    profile = {}\n",
        "    profile['first_name'] = first\n",
        "    profile['last_name'] = last\n",
        "\n",
        "    for key, value in user_info.items():\n",
        "        profile[key] = value\n",
        "    return profile\n"
      ],
      "metadata": {
        "id": "YSkms1bvjSLL"
      },
      "execution_count": 46,
      "outputs": []
    },
    {
      "cell_type": "code",
      "source": [
        "# Test run the build_profile function\n",
        "user_profile = build_profile('suraya', 'adnin',\n",
        "                             location = 'johor',\n",
        "                             field = 'logistics')\n",
        "print(user_profile)"
      ],
      "metadata": {
        "colab": {
          "base_uri": "https://localhost:8080/"
        },
        "id": "DwRHhiCtjcGc",
        "outputId": "444a82dc-ff07-4f6a-8d10-333b46f1d240"
      },
      "execution_count": 49,
      "outputs": [
        {
          "output_type": "stream",
          "name": "stdout",
          "text": [
            "{'first_name': 'suraya', 'last_name': 'adnin', 'location': 'johor', 'field': 'logistics'}\n"
          ]
        }
      ]
    },
    {
      "cell_type": "markdown",
      "source": [
        "# **Exercise 15**: Storing Functions in a Module\n",
        "* Store function in a separate file called ***module***\n",
        "* Import the module into the main program\n",
        "* Storing functions in a separate file allows us to ***hide the details of our program’s code*** and focus on its higher-level logic\n",
        "* Allows us to reuse functions in many different programs\n",
        "* We can share those files with other programmers without having to share our entire program."
      ],
      "metadata": {
        "id": "Wd7a9L2NN3Gh"
      }
    },
    {
      "cell_type": "code",
      "source": [
        "from google.colab import drive\n",
        "drive.mount('/content/drive')"
      ],
      "metadata": {
        "colab": {
          "base_uri": "https://localhost:8080/"
        },
        "id": "g1Y11xk5lEPT",
        "outputId": "dfa71ad8-7e60-48c3-ce6a-97dbd8830fcb"
      },
      "execution_count": 50,
      "outputs": [
        {
          "output_type": "stream",
          "name": "stdout",
          "text": [
            "Mounted at /content/drive\n"
          ]
        }
      ]
    },
    {
      "cell_type": "code",
      "source": [
        "# We need to first mount to the Google Drive as we are now in the \"cloud\"\n",
        "# The module we need is saved in the Google Drive\n",
        "from google.colab import drive\n",
        "drive.mount('/content/drive')"
      ],
      "metadata": {
        "colab": {
          "base_uri": "https://localhost:8080/"
        },
        "id": "ueJGm3XZR2vk",
        "outputId": "4d947b6a-be4b-448a-c01f-eb9711abb4c3"
      },
      "execution_count": null,
      "outputs": [
        {
          "output_type": "stream",
          "name": "stdout",
          "text": [
            "Mounted at /content/drive\n"
          ]
        }
      ]
    },
    {
      "cell_type": "markdown",
      "source": [
        "# **Method I**: Manual upload from our local computer (very troublesome)\n",
        "* make a python module named **pizza.py** in your local computer\n",
        "* upload to the Google Drive"
      ],
      "metadata": {
        "id": "WpuaP-LlRp1h"
      }
    },
    {
      "cell_type": "code",
      "source": [
        "# Upload the module called pizza.py from local computer\n",
        "# Copy to the /content file location\n",
        "# We are currently run in /content -> the \"cloud\"\n",
        "!cp /content/drive/MyDrive/Colab_Notebooks/pizza.py /content"
      ],
      "metadata": {
        "id": "ghPlGFr1OOPK"
      },
      "execution_count": 51,
      "outputs": []
    },
    {
      "cell_type": "markdown",
      "source": [
        "# **Dot notation (.)**\n",
        "* is a syntax used in programming languages like Python to access an object's attributes and methods\n",
        "* making it easier to search complex data structures\n"
      ],
      "metadata": {
        "id": "_jwmppQ-VVFj"
      }
    },
    {
      "cell_type": "markdown",
      "source": [
        "# Executing ***module_name.function_name()***\n",
        "* make each function in the module available"
      ],
      "metadata": {
        "id": "SJEV4IUtWhZj"
      }
    },
    {
      "cell_type": "code",
      "source": [
        "# Import the pizza.py module\n",
        "# Each function in the module is available\n",
        "import pizza\n",
        "\n",
        "# Run the make_pizza function\n",
        "# the make_pizza function is defined in the pizza module\n",
        "pizza.make_pizza(16, 'tuna')\n",
        "pizza.make_pizza(12, 'mushrooms', 'green peppers', 'extra cheese')"
      ],
      "metadata": {
        "colab": {
          "base_uri": "https://localhost:8080/"
        },
        "id": "io4_kSSSTEeN",
        "outputId": "85404080-5242-41ee-d7a3-81f13b44865f"
      },
      "execution_count": 52,
      "outputs": [
        {
          "output_type": "stream",
          "name": "stdout",
          "text": [
            "\n",
            "Making a 16-inch pizza with the following toppings:\n",
            "-tuna\n",
            "\n",
            "Making a 12-inch pizza with the following toppings:\n",
            "-mushrooms\n",
            "-green peppers\n",
            "-extra cheese\n"
          ]
        }
      ]
    },
    {
      "cell_type": "code",
      "source": [
        "# Run power of two punya function\n",
        "import pizza\n",
        "\n",
        "pizza.pow2(5)"
      ],
      "metadata": {
        "colab": {
          "base_uri": "https://localhost:8080/"
        },
        "id": "azWKdZPkogW_",
        "outputId": "352d995e-f902-49e3-89eb-d623c9225834"
      },
      "execution_count": 56,
      "outputs": [
        {
          "output_type": "execute_result",
          "data": {
            "text/plain": [
              "25"
            ]
          },
          "metadata": {},
          "execution_count": 56
        }
      ]
    },
    {
      "cell_type": "markdown",
      "source": [
        "# Executing ***from module_name import function_name***\n",
        "* import a specific function from a module\n",
        "* don’t need to use the dot notation when we call a function"
      ],
      "metadata": {
        "id": "Xo27m1TNW9_g"
      }
    },
    {
      "cell_type": "code",
      "source": [
        "# Importing a Specific Function from a module\n",
        "from pizza import make_pizza\n",
        "\n",
        "make_pizza(16, 'tuna')\n",
        "make_pizza(12, 'mushrooms', 'green peppers', 'extra cheese')"
      ],
      "metadata": {
        "colab": {
          "base_uri": "https://localhost:8080/"
        },
        "id": "lALzafxJTV2u",
        "outputId": "cdd1d7d9-dc21-463b-8d8f-3db031053279"
      },
      "execution_count": 57,
      "outputs": [
        {
          "output_type": "stream",
          "name": "stdout",
          "text": [
            "\n",
            "Making a 16-inch pizza with the following toppings:\n",
            "-tuna\n",
            "\n",
            "Making a 12-inch pizza with the following toppings:\n",
            "-mushrooms\n",
            "-green peppers\n",
            "-extra cheese\n"
          ]
        }
      ]
    },
    {
      "cell_type": "code",
      "source": [
        "# pow2\n",
        "from pizza import pow2\n",
        "pow2(10)"
      ],
      "metadata": {
        "colab": {
          "base_uri": "https://localhost:8080/"
        },
        "id": "qDRidT5_qjAb",
        "outputId": "989e36ef-93b8-4fb5-8d30-039ec4cfc190"
      },
      "execution_count": 58,
      "outputs": [
        {
          "output_type": "execute_result",
          "data": {
            "text/plain": [
              "100"
            ]
          },
          "metadata": {},
          "execution_count": 58
        }
      ]
    },
    {
      "cell_type": "markdown",
      "source": [
        "# Using ***as*** to Give a Function an ***Alias***\n",
        "* If the name of a function you’re importing might conflict with an existing name in your program, or\n",
        "* if the function name is long,\n",
        "\n",
        "    * we can use a ***short, unique alias***—an alternate name similar to a nickname for the function."
      ],
      "metadata": {
        "id": "yrMGitr6XOu2"
      }
    },
    {
      "cell_type": "code",
      "source": [
        "# Using Alias\n",
        "from pizza import make_pizza as mp\n",
        "\n",
        "mp(16, 'tuna')\n",
        "mp(12, 'mushrooms', 'green peppers', 'extra cheese')"
      ],
      "metadata": {
        "colab": {
          "base_uri": "https://localhost:8080/"
        },
        "id": "fmeyX-ZWXVxX",
        "outputId": "1e733632-bed3-46bd-d831-3238a8f44b5d"
      },
      "execution_count": 59,
      "outputs": [
        {
          "output_type": "stream",
          "name": "stdout",
          "text": [
            "\n",
            "Making a 16-inch pizza with the following toppings:\n",
            "-tuna\n",
            "\n",
            "Making a 12-inch pizza with the following toppings:\n",
            "-mushrooms\n",
            "-green peppers\n",
            "-extra cheese\n"
          ]
        }
      ]
    },
    {
      "cell_type": "code",
      "source": [
        "# using alias for pow2\n",
        "from pizza import pow2 as pw\n",
        "pw(99)"
      ],
      "metadata": {
        "colab": {
          "base_uri": "https://localhost:8080/"
        },
        "id": "EW1x09t_q3iR",
        "outputId": "3bc131e4-781a-4cb8-976f-aae6d3b7cefa"
      },
      "execution_count": 60,
      "outputs": [
        {
          "output_type": "execute_result",
          "data": {
            "text/plain": [
              "9801"
            ]
          },
          "metadata": {},
          "execution_count": 60
        }
      ]
    },
    {
      "cell_type": "markdown",
      "source": [
        "# **Method II: Semi-Manual upload module to Google Drive**\n"
      ],
      "metadata": {
        "id": "2EAuWmhyYoLp"
      }
    },
    {
      "cell_type": "code",
      "source": [
        "# Semi-manual upload module\n",
        "from google.colab import files\n",
        "files.upload()"
      ],
      "metadata": {
        "colab": {
          "base_uri": "https://localhost:8080/",
          "height": 142
        },
        "id": "Mi0EJRWrY-VF",
        "outputId": "a97caeb0-88cb-4642-99bf-20a0428762ed"
      },
      "execution_count": 61,
      "outputs": [
        {
          "output_type": "display_data",
          "data": {
            "text/plain": [
              "<IPython.core.display.HTML object>"
            ],
            "text/html": [
              "\n",
              "     <input type=\"file\" id=\"files-cb7d5db6-d657-4686-b6cf-c94fdd8fbfeb\" name=\"files[]\" multiple disabled\n",
              "        style=\"border:none\" />\n",
              "     <output id=\"result-cb7d5db6-d657-4686-b6cf-c94fdd8fbfeb\">\n",
              "      Upload widget is only available when the cell has been executed in the\n",
              "      current browser session. Please rerun this cell to enable.\n",
              "      </output>\n",
              "      <script>// Copyright 2017 Google LLC\n",
              "//\n",
              "// Licensed under the Apache License, Version 2.0 (the \"License\");\n",
              "// you may not use this file except in compliance with the License.\n",
              "// You may obtain a copy of the License at\n",
              "//\n",
              "//      http://www.apache.org/licenses/LICENSE-2.0\n",
              "//\n",
              "// Unless required by applicable law or agreed to in writing, software\n",
              "// distributed under the License is distributed on an \"AS IS\" BASIS,\n",
              "// WITHOUT WARRANTIES OR CONDITIONS OF ANY KIND, either express or implied.\n",
              "// See the License for the specific language governing permissions and\n",
              "// limitations under the License.\n",
              "\n",
              "/**\n",
              " * @fileoverview Helpers for google.colab Python module.\n",
              " */\n",
              "(function(scope) {\n",
              "function span(text, styleAttributes = {}) {\n",
              "  const element = document.createElement('span');\n",
              "  element.textContent = text;\n",
              "  for (const key of Object.keys(styleAttributes)) {\n",
              "    element.style[key] = styleAttributes[key];\n",
              "  }\n",
              "  return element;\n",
              "}\n",
              "\n",
              "// Max number of bytes which will be uploaded at a time.\n",
              "const MAX_PAYLOAD_SIZE = 100 * 1024;\n",
              "\n",
              "function _uploadFiles(inputId, outputId) {\n",
              "  const steps = uploadFilesStep(inputId, outputId);\n",
              "  const outputElement = document.getElementById(outputId);\n",
              "  // Cache steps on the outputElement to make it available for the next call\n",
              "  // to uploadFilesContinue from Python.\n",
              "  outputElement.steps = steps;\n",
              "\n",
              "  return _uploadFilesContinue(outputId);\n",
              "}\n",
              "\n",
              "// This is roughly an async generator (not supported in the browser yet),\n",
              "// where there are multiple asynchronous steps and the Python side is going\n",
              "// to poll for completion of each step.\n",
              "// This uses a Promise to block the python side on completion of each step,\n",
              "// then passes the result of the previous step as the input to the next step.\n",
              "function _uploadFilesContinue(outputId) {\n",
              "  const outputElement = document.getElementById(outputId);\n",
              "  const steps = outputElement.steps;\n",
              "\n",
              "  const next = steps.next(outputElement.lastPromiseValue);\n",
              "  return Promise.resolve(next.value.promise).then((value) => {\n",
              "    // Cache the last promise value to make it available to the next\n",
              "    // step of the generator.\n",
              "    outputElement.lastPromiseValue = value;\n",
              "    return next.value.response;\n",
              "  });\n",
              "}\n",
              "\n",
              "/**\n",
              " * Generator function which is called between each async step of the upload\n",
              " * process.\n",
              " * @param {string} inputId Element ID of the input file picker element.\n",
              " * @param {string} outputId Element ID of the output display.\n",
              " * @return {!Iterable<!Object>} Iterable of next steps.\n",
              " */\n",
              "function* uploadFilesStep(inputId, outputId) {\n",
              "  const inputElement = document.getElementById(inputId);\n",
              "  inputElement.disabled = false;\n",
              "\n",
              "  const outputElement = document.getElementById(outputId);\n",
              "  outputElement.innerHTML = '';\n",
              "\n",
              "  const pickedPromise = new Promise((resolve) => {\n",
              "    inputElement.addEventListener('change', (e) => {\n",
              "      resolve(e.target.files);\n",
              "    });\n",
              "  });\n",
              "\n",
              "  const cancel = document.createElement('button');\n",
              "  inputElement.parentElement.appendChild(cancel);\n",
              "  cancel.textContent = 'Cancel upload';\n",
              "  const cancelPromise = new Promise((resolve) => {\n",
              "    cancel.onclick = () => {\n",
              "      resolve(null);\n",
              "    };\n",
              "  });\n",
              "\n",
              "  // Wait for the user to pick the files.\n",
              "  const files = yield {\n",
              "    promise: Promise.race([pickedPromise, cancelPromise]),\n",
              "    response: {\n",
              "      action: 'starting',\n",
              "    }\n",
              "  };\n",
              "\n",
              "  cancel.remove();\n",
              "\n",
              "  // Disable the input element since further picks are not allowed.\n",
              "  inputElement.disabled = true;\n",
              "\n",
              "  if (!files) {\n",
              "    return {\n",
              "      response: {\n",
              "        action: 'complete',\n",
              "      }\n",
              "    };\n",
              "  }\n",
              "\n",
              "  for (const file of files) {\n",
              "    const li = document.createElement('li');\n",
              "    li.append(span(file.name, {fontWeight: 'bold'}));\n",
              "    li.append(span(\n",
              "        `(${file.type || 'n/a'}) - ${file.size} bytes, ` +\n",
              "        `last modified: ${\n",
              "            file.lastModifiedDate ? file.lastModifiedDate.toLocaleDateString() :\n",
              "                                    'n/a'} - `));\n",
              "    const percent = span('0% done');\n",
              "    li.appendChild(percent);\n",
              "\n",
              "    outputElement.appendChild(li);\n",
              "\n",
              "    const fileDataPromise = new Promise((resolve) => {\n",
              "      const reader = new FileReader();\n",
              "      reader.onload = (e) => {\n",
              "        resolve(e.target.result);\n",
              "      };\n",
              "      reader.readAsArrayBuffer(file);\n",
              "    });\n",
              "    // Wait for the data to be ready.\n",
              "    let fileData = yield {\n",
              "      promise: fileDataPromise,\n",
              "      response: {\n",
              "        action: 'continue',\n",
              "      }\n",
              "    };\n",
              "\n",
              "    // Use a chunked sending to avoid message size limits. See b/62115660.\n",
              "    let position = 0;\n",
              "    do {\n",
              "      const length = Math.min(fileData.byteLength - position, MAX_PAYLOAD_SIZE);\n",
              "      const chunk = new Uint8Array(fileData, position, length);\n",
              "      position += length;\n",
              "\n",
              "      const base64 = btoa(String.fromCharCode.apply(null, chunk));\n",
              "      yield {\n",
              "        response: {\n",
              "          action: 'append',\n",
              "          file: file.name,\n",
              "          data: base64,\n",
              "        },\n",
              "      };\n",
              "\n",
              "      let percentDone = fileData.byteLength === 0 ?\n",
              "          100 :\n",
              "          Math.round((position / fileData.byteLength) * 100);\n",
              "      percent.textContent = `${percentDone}% done`;\n",
              "\n",
              "    } while (position < fileData.byteLength);\n",
              "  }\n",
              "\n",
              "  // All done.\n",
              "  yield {\n",
              "    response: {\n",
              "      action: 'complete',\n",
              "    }\n",
              "  };\n",
              "}\n",
              "\n",
              "scope.google = scope.google || {};\n",
              "scope.google.colab = scope.google.colab || {};\n",
              "scope.google.colab._files = {\n",
              "  _uploadFiles,\n",
              "  _uploadFilesContinue,\n",
              "};\n",
              "})(self);\n",
              "</script> "
            ]
          },
          "metadata": {}
        },
        {
          "output_type": "stream",
          "name": "stdout",
          "text": [
            "Saving pizza.py to pizza (1).py\n"
          ]
        },
        {
          "output_type": "execute_result",
          "data": {
            "text/plain": [
              "{'pizza (1).py': b'# -*- coding: utf-8 -*-\\n\"\"\"pizza.ipynb\\n\\nAutomatically generated by Colaboratory.\\n\\nOriginal file is located at\\n    https://colab.research.google.com/drive/1vdYsT9NvP8W7GqfCIvZmsw_xIiXeZoMd\\n\"\"\"\\n\\ndef make_pizza(size, *toppings):\\n    \"\"\"Summarise the pizza we are about to make\"\"\"\\n    print(\"\\\\nMaking a \" + str(size) + \"-inch pizza with the following toppings:\")\\n\\n    for topping in toppings:\\n        print(\"-\" + topping)\\n\\ndef pow2(x):\\n    \"\"\"Make power of 2\"\"\"\\n    return x**2'}"
            ]
          },
          "metadata": {},
          "execution_count": 61
        }
      ]
    },
    {
      "cell_type": "code",
      "source": [
        "# Run the module and function\n",
        "from pizza import make_pizza as mp\n",
        "mp(16, 'aloha chicken')"
      ],
      "metadata": {
        "colab": {
          "base_uri": "https://localhost:8080/"
        },
        "id": "Z4jMlZfqZLbx",
        "outputId": "db627f8f-5662-4c0c-a129-67cd95c56afb"
      },
      "execution_count": 62,
      "outputs": [
        {
          "output_type": "stream",
          "name": "stdout",
          "text": [
            "\n",
            "Making a 16-inch pizza with the following toppings:\n",
            "-aloha chicken\n"
          ]
        }
      ]
    },
    {
      "cell_type": "markdown",
      "source": [
        "# **Good Luck and see you all next week :)**"
      ],
      "metadata": {
        "id": "AsgDHq4zrrdy"
      }
    }
  ]
}